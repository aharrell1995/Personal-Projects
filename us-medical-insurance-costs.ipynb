{
 "cells": [
  {
   "cell_type": "markdown",
   "metadata": {},
   "source": [
    "# U.S. Medical Insurance Costs"
   ]
  },
  {
   "cell_type": "markdown",
   "metadata": {},
   "source": [
    "### I want to know which region has the highest costs, and then determine which factors might be driving the abnormal costs."
   ]
  },
  {
   "cell_type": "code",
   "execution_count": 1,
   "metadata": {},
   "outputs": [],
   "source": [
    "# Import libraries.\n",
    "import csv"
   ]
  },
  {
   "cell_type": "code",
   "execution_count": 2,
   "metadata": {},
   "outputs": [],
   "source": [
    "# Open data file and convert to list of Python dictionaries.\n",
    "insurance_entries = []\n",
    "with open('insurance.csv') as insurance_data:\n",
    "    insurance_reader = csv.DictReader(insurance_data)\n",
    "    for item in insurance_reader:\n",
    "        insurance_entries.append(item)"
   ]
  },
  {
   "cell_type": "code",
   "execution_count": 3,
   "metadata": {},
   "outputs": [],
   "source": [
    "# Separate the dictionary into lists of dictionaries by region.\n",
    "\n",
    "regions = ['Southeast', 'Southwest', 'Northeast', 'Northwest']\n",
    "southeast_ents = []\n",
    "southwest_ents = []\n",
    "northeast_ents = []\n",
    "northwest_ents = []\n",
    "\n",
    "def region_lists(ins_ents_list):\n",
    "     for entry in ins_ents_list:\n",
    "        if entry['region'] == 'southeast':\n",
    "            southeast_ents.append(entry)\n",
    "        elif entry['region'] == 'southwest':\n",
    "            southwest_ents.append(entry)\n",
    "        elif entry['region'] == 'northeast':\n",
    "            northeast_ents.append(entry)\n",
    "        elif entry['region'] == 'northwest':\n",
    "            northwest_ents.append(entry)\n",
    "        else:\n",
    "            continue\n",
    "\n",
    "region_lists(insurance_entries)"
   ]
  },
  {
   "cell_type": "code",
   "execution_count": 4,
   "metadata": {
    "scrolled": true
   },
   "outputs": [
    {
     "name": "stdout",
     "output_type": "stream",
     "text": [
      "The region with the highest average insurance cost is the Southeast region.\n"
     ]
    }
   ],
   "source": [
    "# Find average cost by region, and identify the region with the highest average costs.\n",
    "\n",
    "def region_av_cost(region_ents_list):\n",
    "    total_cost = 0 \n",
    "    for entry in region_ents_list:\n",
    "        total_cost += float(entry['charges'])\n",
    "    return round(total_cost/len(region_ents_list),4)\n",
    "\n",
    "se_av_cost = region_av_cost(southeast_ents)\n",
    "sw_av_cost = region_av_cost(southwest_ents)\n",
    "ne_av_cost = region_av_cost(northeast_ents)\n",
    "nw_av_cost = region_av_cost(northwest_ents)\n",
    "\n",
    "av_costs = [se_av_cost, sw_av_cost, ne_av_cost, nw_av_cost]\n",
    "max_reg_costs = max(av_costs)\n",
    "costs_dict = dict(list(zip(av_costs, regions)))\n",
    "print('The region with the highest average insurance cost is the ' + costs_dict[max_reg_costs] + ' region.')"
   ]
  },
  {
   "cell_type": "markdown",
   "metadata": {},
   "source": [
    "### Now that I know the Southeast is the region with the highest average costs, I can investigate the average bmis, ages, number of children, sex rates and smoker rates across all regions. "
   ]
  },
  {
   "cell_type": "code",
   "execution_count": 5,
   "metadata": {
    "scrolled": true
   },
   "outputs": [
    {
     "name": "stdout",
     "output_type": "stream",
     "text": [
      "The region with the highest average BMI is the Southeast region. The average BMI there is 33.356, which is 9.02% higher than the second highest average regional BMI.\n"
     ]
    }
   ],
   "source": [
    "# Compare average bmi for all regions. Indicate which region has the highest average bmi, and by how much.\n",
    "\n",
    "def bmi_avs(region_ents_list):\n",
    "    total_bmi = 0\n",
    "    for entry in region_ents_list:\n",
    "        total_bmi += float(entry['bmi'])\n",
    "    return round(total_bmi/len(region_ents_list),4)\n",
    "\n",
    "se_av_bmi = bmi_avs(southeast_ents)\n",
    "sw_av_bmi = bmi_avs(southwest_ents)\n",
    "ne_av_bmi = bmi_avs(northeast_ents)\n",
    "nw_av_bmi = bmi_avs(northwest_ents)\n",
    "\n",
    "av_bmi = [se_av_bmi, sw_av_bmi, ne_av_bmi, nw_av_bmi]\n",
    "max_reg_bmi = max(av_bmi)\n",
    "bmi_dict = dict(list(zip(av_bmi, regions)))\n",
    "\n",
    "av_bmi_sorted = sorted(av_bmi)\n",
    "sec_largest_bmi = av_bmi_sorted[-2]\n",
    "perc_diff_bmi = round(((max_reg_bmi/sec_largest_bmi)-1)*100, 2)\n",
    "\n",
    "print('The region with the highest average BMI is the ' + bmi_dict[max_reg_bmi] + ' region. The average BMI there is ' + str(max_reg_bmi) + ', which is ' + str(perc_diff_bmi) + '% higher than the second highest average regional BMI.' )"
   ]
  },
  {
   "cell_type": "code",
   "execution_count": 6,
   "metadata": {
    "scrolled": true
   },
   "outputs": [
    {
     "name": "stdout",
     "output_type": "stream",
     "text": [
      "The region with the highest average age is the Southwest region. The average age there is 39.4554, which is 0.48% higher than the second highest average regional age.\n"
     ]
    }
   ],
   "source": [
    "# Compare average age for all regions. Indicate which region has the highest average age, and by how much.\n",
    "\n",
    "def age_avs(region_ents_list):\n",
    "    total_age = 0\n",
    "    for entry in region_ents_list:\n",
    "        total_age += float(entry['age'])\n",
    "    return round(total_age/len(region_ents_list),4)\n",
    "\n",
    "se_av_age = age_avs(southeast_ents)\n",
    "sw_av_age = age_avs(southwest_ents)\n",
    "ne_av_age = age_avs(northeast_ents)\n",
    "nw_av_age = age_avs(northwest_ents)\n",
    "\n",
    "av_age = [se_av_age, sw_av_age, ne_av_age, nw_av_age]\n",
    "max_reg_age = max(av_age)\n",
    "age_dict = dict(list(zip(av_age, regions)))\n",
    "\n",
    "av_age_sorted = sorted(av_age)\n",
    "sec_largest_age = av_age_sorted[-2]\n",
    "perc_diff_age = round(((max_reg_age/sec_largest_age)-1)*100, 2)\n",
    "\n",
    "print('The region with the highest average age is the ' + age_dict[max_reg_age] + ' region. The average age there is ' + str(max_reg_age) + ', which is ' + str(perc_diff_age) + '% higher than the second highest average regional age.' )"
   ]
  },
  {
   "cell_type": "code",
   "execution_count": 7,
   "metadata": {},
   "outputs": [
    {
     "name": "stdout",
     "output_type": "stream",
     "text": [
      "The region with the highest average number of children is the Northwest region. The average number of children there is 1.15, which is 0.88% higher than the second highest average regional number of children.\n"
     ]
    }
   ],
   "source": [
    "# Compare average number of children for all regions. Indicate which region has the highest average number of children, and by how much.\n",
    "\n",
    "def num_children_avs(region_ents_list):\n",
    "    total_num_children = 0\n",
    "    for entry in region_ents_list:\n",
    "        total_num_children += float(entry['children'])\n",
    "    return round(total_num_children/len(region_ents_list),2)\n",
    "\n",
    "se_av_num_children = num_children_avs(southeast_ents)\n",
    "sw_av_num_children = num_children_avs(southwest_ents)\n",
    "ne_av_num_children = num_children_avs(northeast_ents)\n",
    "nw_av_num_children = num_children_avs(northwest_ents)\n",
    "\n",
    "av_num_children = [se_av_num_children, sw_av_num_children, ne_av_num_children, nw_av_num_children]\n",
    "max_reg_num_children = max(av_num_children)\n",
    "num_children_dict = dict(list(zip(av_num_children, regions)))\n",
    "\n",
    "av_num_children_sorted = sorted(av_num_children)\n",
    "sec_largest_num_children = av_num_children_sorted[-2]\n",
    "perc_diff_num_children = round(((max_reg_num_children/sec_largest_num_children)-1)*100, 2)\n",
    "\n",
    "print('The region with the highest average number of children is the ' + num_children_dict[max_reg_num_children] + ' region. The average number of children there is ' + str(max_reg_num_children) + ', which is ' + str(perc_diff_num_children) + '% higher than the second highest average regional number of children.' )"
   ]
  },
  {
   "cell_type": "code",
   "execution_count": 8,
   "metadata": {},
   "outputs": [
    {
     "name": "stdout",
     "output_type": "stream",
     "text": [
      "The region with the highest male population is the Southeast region. The male population there is 51.9231%, which is 1.61% higher than the second highest regional male population.\n"
     ]
    }
   ],
   "source": [
    "# Compare the percentages of the population that are male for all regions. Indicate which region has the highest percentage of men, and by how much.\n",
    "\n",
    "def men_avs(region_ents_list):\n",
    "    total_men = 0\n",
    "    for entry in region_ents_list:\n",
    "        if entry['sex'] == 'male':\n",
    "            total_men += 1\n",
    "        else:\n",
    "            continue\n",
    "    return round((total_men/len(region_ents_list))*100,4)\n",
    "\n",
    "se_perc_male = men_avs(southeast_ents)\n",
    "sw_perc_male = men_avs(southwest_ents)\n",
    "ne_perc_male = men_avs(northeast_ents)\n",
    "nw_perc_male = men_avs(northwest_ents)\n",
    "\n",
    "av_perc_male = [se_perc_male, sw_perc_male, ne_perc_male, nw_perc_male]\n",
    "max_reg_perc_male = max(av_perc_male)\n",
    "perc_male_dict = dict(list(zip(av_perc_male, regions)))\n",
    "\n",
    "av_perc_male_sorted = sorted(av_perc_male)\n",
    "sec_largest_perc_male = av_perc_male_sorted[-2]\n",
    "perc_diff_perc_male = round((max_reg_perc_male-sec_largest_perc_male), 2)\n",
    "\n",
    "print('The region with the highest male population is the ' + perc_male_dict[max_reg_perc_male] + ' region. The male population there is ' + str(max_reg_perc_male) + '%, which is ' + str(perc_diff_perc_male) + '% higher than the second highest regional male population.' )\n"
   ]
  },
  {
   "cell_type": "code",
   "execution_count": 9,
   "metadata": {},
   "outputs": [
    {
     "name": "stdout",
     "output_type": "stream",
     "text": [
      "The region with the highest smoker population is the Southeast region. The smoker population there is 25.0%, which is 4.32% higher than the second highest regional smoker population.\n"
     ]
    }
   ],
   "source": [
    "# Compare the percentages of the population that smokes for all regions. Indicate which region has the highest percentage of smokers, and by how much.\n",
    "\n",
    "def smoker_avs(region_ents_list):\n",
    "    total_smoker = 0\n",
    "    for entry in region_ents_list:\n",
    "        if entry['smoker'] == 'yes':\n",
    "            total_smoker += 1\n",
    "        else:\n",
    "            continue\n",
    "    return round((total_smoker/len(region_ents_list))*100,4)\n",
    "\n",
    "se_perc_smoker = smoker_avs(southeast_ents)\n",
    "sw_perc_smoker = smoker_avs(southwest_ents)\n",
    "ne_perc_smoker = smoker_avs(northeast_ents)\n",
    "nw_perc_smoker = smoker_avs(northwest_ents)\n",
    "\n",
    "av_perc_smoker = [se_perc_smoker, sw_perc_smoker, ne_perc_smoker, nw_perc_smoker]\n",
    "max_reg_perc_smoker = max(av_perc_smoker)\n",
    "perc_smoker_dict = dict(list(zip(av_perc_smoker, regions)))\n",
    "\n",
    "av_perc_smoker_sorted = sorted(av_perc_smoker)\n",
    "sec_largest_perc_smoker = av_perc_smoker_sorted[-2]\n",
    "perc_diff_perc_smoker = round((max_reg_perc_smoker-sec_largest_perc_smoker), 2)\n",
    "\n",
    "print('The region with the highest smoker population is the ' + perc_smoker_dict[max_reg_perc_smoker] + ' region. The smoker population there is ' + str(max_reg_perc_smoker) + '%, which is ' + str(perc_diff_perc_smoker) + '% higher than the second highest regional smoker population.' )\n"
   ]
  },
  {
   "cell_type": "markdown",
   "metadata": {},
   "source": [
    "### The Southeast leads the pack in 3 of 5 categories - BMI, male population, and smoker status. All of these may contribute to high insurance costs in that region. Further statistical analysis and hypthesis testing will reveal if any of those factors are strong drivers for the high costs."
   ]
  }
 ],
 "metadata": {
  "kernelspec": {
   "display_name": "Python 3 (ipykernel)",
   "language": "python",
   "name": "python3"
  },
  "language_info": {
   "codemirror_mode": {
    "name": "ipython",
    "version": 3
   },
   "file_extension": ".py",
   "mimetype": "text/x-python",
   "name": "python",
   "nbconvert_exporter": "python",
   "pygments_lexer": "ipython3",
   "version": "3.9.7"
  }
 },
 "nbformat": 4,
 "nbformat_minor": 4
}
